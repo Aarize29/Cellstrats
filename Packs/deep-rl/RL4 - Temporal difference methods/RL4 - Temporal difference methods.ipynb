{
 "cells": [
  {
   "cell_type": "markdown",
   "metadata": {},
   "source": [
    "## CellStrat Deep Reinforcement Learning Certification\n",
    "### RL4 - Temporal Difference methods\n",
    "\n",
    "#### Instructions to be followed:\n",
    "Change the kernel to **Python3**"
   ]
  },
  {
   "attachments": {
    "image.png": {
     "image/png": "[encoded data removed]"
    }
   },
   "cell_type": "markdown",
   "metadata": {},
   "source": [
    "Cliff Walking Environment\n",
    "![image.png](attachment:image.png)"
   ]
  },
  {
   "cell_type": "markdown",
   "metadata": {},
   "source": [
    "Consider the gridworld shown to the right. This is a standard undiscounted,\n",
    "episodic task, with start and goal states, and the usual actions\n",
    "causing movement up, down, right, and left. Reward is −1 on all\n",
    "transitions except those into the region marked “The Cliff.” Stepping\n",
    "into this region incurs a reward of −100 and sends the agent instantly\n",
    "back to the start."
   ]
  },
  {
   "cell_type": "code",
   "execution_count": 1,
   "metadata": {},
   "outputs": [],
   "source": [
    "#==============================================================================\n",
    "# If any library needs to be installed, install with following command :-\n",
    "# pip install <library-name>\n",
    "# This pip command should be in an independent cell with no other code or comments in this cell.\n",
    "#==============================================================================\n"
   ]
  },
  {
   "cell_type": "code",
   "execution_count": 2,
   "metadata": {},
   "outputs": [
    {
     "name": "stdout",
     "output_type": "stream",
     "text": [
      "Note: you may need to restart the kernel to use updated packages.\n"
     ]
    }
   ],
   "source": [
    "pip install gym > /dev/null 2>&1"
   ]
  },
  {
   "cell_type": "code",
   "execution_count": 3,
   "metadata": {},
   "outputs": [],
   "source": [
    "#==============================================================================\n",
    "# Import libraries\n",
    "#==============================================================================\n",
    "\n",
    "import sys\n",
    "import gym\n",
    "import numpy as np\n",
    "import random\n",
    "import math\n",
    "from collections import defaultdict, deque\n",
    "import matplotlib.pyplot as plt\n",
    "%matplotlib inline"
   ]
  },
  {
   "cell_type": "code",
   "execution_count": 4,
   "metadata": {},
   "outputs": [],
   "source": [
    "env = gym.make('CliffWalking-v0')"
   ]
  },
  {
   "cell_type": "markdown",
   "metadata": {},
   "source": [
    "The agent moves through a $4\\times 12$ gridworld, with states numbered as follows:\n",
    "```\n",
    "[[ 0,  1,  2,  3,  4,  5,  6,  7,  8,  9, 10, 11],\n",
    " [12, 13, 14, 15, 16, 17, 18, 19, 20, 21, 22, 23],\n",
    " [24, 25, 26, 27, 28, 29, 30, 31, 32, 33, 34, 35],\n",
    " [36, 37, 38, 39, 40, 41, 42, 43, 44, 45, 46, 47]]\n",
    "```\n",
    "At the start of any episode, state `36` is the initial state.  State `47` is the only terminal state, and the cliff corresponds to states `37` through `46`.\n",
    "\n",
    "The agent has 4 potential actions:\n",
    "```\n",
    "UP = 0\n",
    "RIGHT = 1\n",
    "DOWN = 2\n",
    "LEFT = 3\n",
    "```\n",
    "\n",
    "Thus, $\\mathcal{S}^+=\\{0, 1, \\ldots, 47\\}$, and $\\mathcal{A} =\\{0, 1, 2, 3\\}$.  Verify this by running the code cell below."
   ]
  },
  {
   "cell_type": "code",
   "execution_count": 5,
   "metadata": {},
   "outputs": [
    {
     "name": "stdout",
     "output_type": "stream",
     "text": [
      "Discrete(4)\n",
      "Discrete(48)\n"
     ]
    }
   ],
   "source": [
    "print(env.action_space)\n",
    "print(env.observation_space)"
   ]
  },
  {
   "cell_type": "markdown",
   "metadata": {},
   "source": [
    "### 1) TD Control SARSA\n",
    "\n",
    "SARSA algorithm has four arguments:\n",
    "- `env`: This is an instance of an OpenAI Gym environment.\n",
    "- `num_episodes`: This is the number of episodes that are generated through agent-environment interaction.\n",
    "- `alpha`: This is the step-size parameter for the update step.\n",
    "- `gamma`: This is the discount rate.  It must be a value between 0 and 1, inclusive (default value: `1`).\n",
    "\n",
    "The algorithm returns as output:\n",
    "- `Q`: This is a dictionary (of one-dimensional arrays) where `Q[s][a]` is the estimated action value corresponding to state `s` and action `a`."
   ]
  },
  {
   "cell_type": "code",
   "execution_count": 6,
   "metadata": {},
   "outputs": [],
   "source": [
    "def update_Q_sarsa(alpha, gamma, Q, state, action, reward, next_state=None, next_action=None):\n",
    "    \"\"\"Returns updated Q-value for the most recent experience.\"\"\"\n",
    "    current = Q[state][action]  # estimate in Q-table (for current state, action pair)\n",
    "    # get value of state, action pair at next time step\n",
    "    Qsa_next = Q[next_state][next_action] if next_state is not None else 0    \n",
    "    target = reward + (gamma * Qsa_next)               # construct TD target\n",
    "    new_value = current + (alpha * (target - current)) # get updated value\n",
    "    return new_value\n",
    "\n",
    "def epsilon_greedy(Q, state, nA, eps):\n",
    "    \"\"\"Selects epsilon-greedy action for supplied state.\n",
    "    \n",
    "    Params\n",
    "    ======\n",
    "        Q (dictionary): action-value function\n",
    "        state (int): current state\n",
    "        nA (int): number actions in the environment\n",
    "        eps (float): epsilon\n",
    "    \"\"\"\n",
    "    if random.random() > eps: # select greedy action with probability epsilon\n",
    "        return np.argmax(Q[state])\n",
    "    else:                     # otherwise, select an action randomly\n",
    "        return random.choice(np.arange(env.action_space.n))"
   ]
  },
  {
   "cell_type": "code",
   "execution_count": 7,
   "metadata": {},
   "outputs": [],
   "source": [
    "def sarsa(env, num_episodes, alpha, gamma=1.0, plot_every=100):\n",
    "    nA = env.action_space.n                # number of actions\n",
    "    Q = defaultdict(lambda: np.zeros(nA))  # initialize empty dictionary of arrays\n",
    "    \n",
    "    # monitor performance\n",
    "    tmp_scores = deque(maxlen=plot_every)     # deque for keeping track of scores\n",
    "    avg_scores = deque(maxlen=num_episodes)   # average scores over every plot_every episodes\n",
    "    \n",
    "    for i_episode in range(1, num_episodes+1):\n",
    "        # monitor progress\n",
    "        if i_episode % 100 == 0:\n",
    "            print(\"\\rEpisode {}/{}\".format(i_episode, num_episodes), end=\"\")\n",
    "            sys.stdout.flush()   \n",
    "        score = 0                                             # initialize score\n",
    "        state = env.reset()                                   # start episode\n",
    "        \n",
    "        eps = 1.0 / i_episode                                 # set value of epsilon\n",
    "        action = epsilon_greedy(Q, state, nA, eps)            # epsilon-greedy action selection\n",
    "        \n",
    "        while True:\n",
    "            next_state, reward, done, info = env.step(action) # take action A, observe R, S'\n",
    "            score += reward                                   # add reward to agent's score\n",
    "            if not done:\n",
    "                next_action = epsilon_greedy(Q, next_state, nA, eps) # epsilon-greedy action\n",
    "                Q[state][action] = update_Q_sarsa(alpha, gamma, Q, \\\n",
    "                                                  state, action, reward, next_state, next_action)\n",
    "                \n",
    "                state = next_state     # S <- S'\n",
    "                action = next_action   # A <- A'\n",
    "            if done:\n",
    "                Q[state][action] = update_Q_sarsa(alpha, gamma, Q, \\\n",
    "                                                  state, action, reward)\n",
    "                tmp_scores.append(score)    # append score\n",
    "                break\n",
    "        if (i_episode % plot_every == 0):\n",
    "            avg_scores.append(np.mean(tmp_scores))\n",
    "\n",
    "    # plot performance\n",
    "    plt.plot(np.linspace(0,num_episodes,len(avg_scores),endpoint=False), np.asarray(avg_scores))\n",
    "    plt.xlabel('Episode Number')\n",
    "    plt.ylabel('Average Reward (Over Next %d Episodes)' % plot_every)\n",
    "    plt.show()\n",
    "    # print best 100-episode performance\n",
    "    print(('Best Average Reward over %d Episodes: ' % plot_every), np.max(avg_scores))    \n",
    "    return Q"
   ]
  },
  {
   "cell_type": "code",
   "execution_count": 8,
   "metadata": {},
   "outputs": [
    {
     "name": "stdout",
     "output_type": "stream",
     "text": [
      "Episode 5000/5000"
     ]
    },
    {
     "data": {
      "image/png": "[encoded data removed]",
      "text/plain": [
       "<Figure size 432x288 with 1 Axes>"
      ]
     },
     "metadata": {
      "needs_background": "light"
     },
     "output_type": "display_data"
    },
    {
     "name": "stdout",
     "output_type": "stream",
     "text": [
      "Best Average Reward over 100 Episodes:  -13.0\n",
      "\n",
      "Estimated Optimal Policy (UP = 0, RIGHT = 1, DOWN = 2, LEFT = 3, N/A = -1):\n",
      "[[ 0  3  1  1  1  1  2  2  1  3  2  2]\n",
      " [ 3  0  1  1  0  1  1  1  1  1  1  2]\n",
      " [ 1  1  1  1  1  1  1  1  1  1  1  2]\n",
      " [ 0 -1 -1 -1 -1 -1 -1 -1 -1 -1 -1 -1]]\n"
     ]
    }
   ],
   "source": [
    "# obtain the estimated optimal policy and corresponding action-value function\n",
    "Q_sarsa = sarsa(env, 5000, .01)\n",
    "\n",
    "# print the estimated optimal policy\n",
    "policy_sarsa = np.array([np.argmax(Q_sarsa[key]) if key in Q_sarsa else -1 for key in np.arange(48)]).reshape(4,12)\n",
    "\n",
    "print(\"\\nEstimated Optimal Policy (UP = 0, RIGHT = 1, DOWN = 2, LEFT = 3, N/A = -1):\")\n",
    "print(policy_sarsa)"
   ]
  },
  {
   "cell_type": "markdown",
   "metadata": {},
   "source": [
    "### 2) Q-Learning\n",
    "Q-Learning algorithm has four arguments:\n",
    "- `env`: This is an instance of an OpenAI Gym environment.\n",
    "- `num_episodes`: This is the number of episodes that are generated through agent-environment interaction.\n",
    "- `alpha`: This is the step-size parameter for the update step.\n",
    "- `gamma`: This is the discount rate.  It must be a value between 0 and 1, inclusive (default value: `1`).\n",
    "\n",
    "The algorithm returns as output:\n",
    "- `Q`: This is a dictionary (of one-dimensional arrays) where `Q[s][a]` is the estimated action value corresponding to state `s` and action `a`."
   ]
  },
  {
   "cell_type": "code",
   "execution_count": 9,
   "metadata": {},
   "outputs": [],
   "source": [
    "def update_Q_sarsamax(alpha, gamma, Q, state, action, reward, next_state=None):\n",
    "    \"\"\"Returns updated Q-value for the most recent experience.\"\"\"\n",
    "    current = Q[state][action]  # estimate in Q-table (for current state, action pair)\n",
    "    Qsa_next = np.max(Q[next_state]) if next_state is not None else 0  # value of next state \n",
    "    target = reward + (gamma * Qsa_next)               # construct TD target\n",
    "    new_value = current + (alpha * (target - current)) # get updated value \n",
    "    return new_value"
   ]
  },
  {
   "cell_type": "code",
   "execution_count": 10,
   "metadata": {},
   "outputs": [],
   "source": [
    "def q_learning(env, num_episodes, alpha, gamma=1.0, plot_every=100):\n",
    "    \"\"\"Q-Learning - TD Control\n",
    "    \n",
    "    Params\n",
    "    ======\n",
    "        num_episodes (int): number of episodes to run the algorithm\n",
    "        alpha (float): learning rate\n",
    "        gamma (float): discount factor\n",
    "        plot_every (int): number of episodes to use when calculating average score\n",
    "    \"\"\"\n",
    "    nA = env.action_space.n                # number of actions\n",
    "    Q = defaultdict(lambda: np.zeros(nA))  # initialize empty dictionary of arrays\n",
    "    \n",
    "    # monitor performance\n",
    "    tmp_scores = deque(maxlen=plot_every)     # deque for keeping track of scores\n",
    "    avg_scores = deque(maxlen=num_episodes)   # average scores over every plot_every episodes\n",
    "    \n",
    "    for i_episode in range(1, num_episodes+1):\n",
    "        # monitor progress\n",
    "        if i_episode % 100 == 0:\n",
    "            print(\"\\rEpisode {}/{}\".format(i_episode, num_episodes), end=\"\")\n",
    "            sys.stdout.flush()\n",
    "        score = 0                                              # initialize score\n",
    "        state = env.reset()                                    # start episode\n",
    "        eps = 1.0 / i_episode                                  # set value of epsilon\n",
    "        \n",
    "        while True:\n",
    "            action = epsilon_greedy(Q, state, nA, eps)         # epsilon-greedy action selection\n",
    "            next_state, reward, done, info = env.step(action)  # take action A, observe R, S'\n",
    "            score += reward                                    # add reward to agent's score\n",
    "            Q[state][action] = update_Q_sarsamax(alpha, gamma, Q, \\\n",
    "                                                 state, action, reward, next_state)        \n",
    "            state = next_state                                 # S <- S'\n",
    "            if done:\n",
    "                tmp_scores.append(score)                       # append score\n",
    "                break\n",
    "        if (i_episode % plot_every == 0):\n",
    "            avg_scores.append(np.mean(tmp_scores))\n",
    "            \n",
    "    # plot performance\n",
    "    plt.plot(np.linspace(0,num_episodes,len(avg_scores),endpoint=False), np.asarray(avg_scores))\n",
    "    plt.xlabel('Episode Number')\n",
    "    plt.ylabel('Average Reward (Over Next %d Episodes)' % plot_every)\n",
    "    plt.show()\n",
    "    # print best 100-episode performance\n",
    "    print(('Best Average Reward over %d Episodes: ' % plot_every), np.max(avg_scores))\n",
    "    return Q"
   ]
  },
  {
   "cell_type": "code",
   "execution_count": 11,
   "metadata": {},
   "outputs": [
    {
     "name": "stdout",
     "output_type": "stream",
     "text": [
      "Episode 5000/5000"
     ]
    },
    {
     "data": {
      "image/png": "[encoded data removed]",
      "text/plain": [
       "<Figure size 432x288 with 1 Axes>"
      ]
     },
     "metadata": {
      "needs_background": "light"
     },
     "output_type": "display_data"
    },
    {
     "name": "stdout",
     "output_type": "stream",
     "text": [
      "Best Average Reward over 100 Episodes:  -13.0\n",
      "\n",
      "Estimated Optimal Policy (UP = 0, RIGHT = 1, DOWN = 2, LEFT = 3, N/A = -1):\n",
      "[[ 3  0  0  3  1  1  0  2  2  0  1  2]\n",
      " [ 2  2  1  2  1  1  2  1  2  2  1  2]\n",
      " [ 1  1  1  1  1  1  1  1  1  1  1  2]\n",
      " [ 0 -1 -1 -1 -1 -1 -1 -1 -1 -1 -1  0]]\n"
     ]
    }
   ],
   "source": [
    "# obtain the estimated optimal policy and corresponding action-value function\n",
    "Q_sarsamax = q_learning(env, 5000, .01)\n",
    "\n",
    "# print the estimated optimal policy\n",
    "policy_sarsamax = np.array([np.argmax(Q_sarsamax[key]) if key in Q_sarsamax else -1 for key in np.arange(48)]).reshape((4,12))\n",
    "\n",
    "print(\"\\nEstimated Optimal Policy (UP = 0, RIGHT = 1, DOWN = 2, LEFT = 3, N/A = -1):\")\n",
    "print(policy_sarsamax)\n",
    "\n"
   ]
  },
  {
   "cell_type": "markdown",
   "metadata": {},
   "source": [
    "### 3) TD Control: Expected Sarsa\n",
    "\n",
    "Expected SARSA algorithm has four arguments:\n",
    "- `env`: This is an instance of an OpenAI Gym environment.\n",
    "- `num_episodes`: This is the number of episodes that are generated through agent-environment interaction.\n",
    "- `alpha`: This is the step-size parameter for the update step.\n",
    "- `gamma`: This is the discount rate.  It must be a value between 0 and 1, inclusive (default value: `1`).\n",
    "\n",
    "The algorithm returns as output:\n",
    "- `Q`: This is a dictionary (of one-dimensional arrays) where `Q[s][a]` is the estimated action value corresponding to state `s` and action `a`."
   ]
  },
  {
   "cell_type": "code",
   "execution_count": 12,
   "metadata": {},
   "outputs": [],
   "source": [
    "def update_Q_expsarsa(alpha, gamma, nA, eps, Q, state, action, reward, next_state=None):\n",
    "    \"\"\"Returns updated Q-value for the most recent experience.\"\"\"\n",
    "    current = Q[state][action]         # estimate in Q-table (for current state, action pair)\n",
    "    policy_s = np.ones(nA) * eps / nA  # current policy (for next state S')\n",
    "    policy_s[np.argmax(Q[next_state])] = 1 - eps + (eps / nA) # greedy action\n",
    "    Qsa_next = np.dot(Q[next_state], policy_s)         # get value of state at next time step\n",
    "    target = reward + (gamma * Qsa_next)               # construct target\n",
    "    new_value = current + (alpha * (target - current)) # get updated value \n",
    "    return new_value"
   ]
  },
  {
   "cell_type": "code",
   "execution_count": 13,
   "metadata": {},
   "outputs": [],
   "source": [
    "def expected_sarsa(env, num_episodes, alpha, gamma=1.0, plot_every=100):\n",
    "    \"\"\"Expected SARSA - TD Control\n",
    "    \n",
    "    Params\n",
    "    ======\n",
    "        num_episodes (int): number of episodes to run the algorithm\n",
    "        alpha (float): step-size parameters for the update step\n",
    "        gamma (float): discount factor\n",
    "        plot_every (int): number of episodes to use when calculating average score\n",
    "    \"\"\"\n",
    "    nA = env.action_space.n                # number of actions\n",
    "    Q = defaultdict(lambda: np.zeros(nA))  # initialize empty dictionary of arrays\n",
    "    \n",
    "    # monitor performance\n",
    "    tmp_scores = deque(maxlen=plot_every)     # deque for keeping track of scores\n",
    "    avg_scores = deque(maxlen=num_episodes)   # average scores over every plot_every episodes\n",
    "    \n",
    "    for i_episode in range(1, num_episodes+1):\n",
    "        # monitor progress\n",
    "        if i_episode % 100 == 0:\n",
    "            print(\"\\rEpisode {}/{}\".format(i_episode, num_episodes), end=\"\")\n",
    "            sys.stdout.flush()\n",
    "        \n",
    "        score = 0             # initialize score\n",
    "        state = env.reset()   # start episode\n",
    "        eps = 0.005           # set value of epsilon\n",
    "        \n",
    "        while True:\n",
    "            action = epsilon_greedy(Q, state, nA, eps)         # epsilon-greedy action selection\n",
    "            next_state, reward, done, info = env.step(action)  # take action A, observe R, S'\n",
    "            score += reward                                    # add reward to agent's score\n",
    "            # update Q\n",
    "            Q[state][action] = update_Q_expsarsa(alpha, gamma, nA, eps, Q, \\\n",
    "                                                 state, action, reward, next_state)        \n",
    "            state = next_state              # S <- S'\n",
    "            if done:\n",
    "                tmp_scores.append(score)    # append score\n",
    "                break\n",
    "        if (i_episode % plot_every == 0):\n",
    "            avg_scores.append(np.mean(tmp_scores))\n",
    "            \n",
    "    # plot performance\n",
    "    plt.plot(np.linspace(0,num_episodes,len(avg_scores),endpoint=False), np.asarray(avg_scores))\n",
    "    plt.xlabel('Episode Number')\n",
    "    plt.ylabel('Average Reward (Over Next %d Episodes)' % plot_every)\n",
    "    plt.show()\n",
    "    # print best 100-episode performance\n",
    "    print(('Best Average Reward over %d Episodes: ' % plot_every), np.max(avg_scores))\n",
    "    return Q"
   ]
  },
  {
   "cell_type": "code",
   "execution_count": 14,
   "metadata": {},
   "outputs": [
    {
     "name": "stdout",
     "output_type": "stream",
     "text": [
      "Episode 5000/5000"
     ]
    },
    {
     "data": {
      "image/png": "[encoded data removed]",
      "text/plain": [
       "<Figure size 432x288 with 1 Axes>"
      ]
     },
     "metadata": {
      "needs_background": "light"
     },
     "output_type": "display_data"
    },
    {
     "name": "stdout",
     "output_type": "stream",
     "text": [
      "Best Average Reward over 100 Episodes:  -13.04\n",
      "\n",
      "Estimated Optimal Policy (UP = 0, RIGHT = 1, DOWN = 2, LEFT = 3, N/A = -1):\n",
      "[[ 1  3  0  2  1  1  2  1  1  1  0  2]\n",
      " [ 1  1  1  1  1  1  1  1  1  1  1  2]\n",
      " [ 1  1  1  1  1  1  1  1  1  1  1  2]\n",
      " [ 0 -1 -1 -1 -1 -1 -1 -1 -1 -1 -1  0]]\n"
     ]
    }
   ],
   "source": [
    "# obtain the estimated optimal policy and corresponding action-value function\n",
    "Q_expsarsa = expected_sarsa(env, 5000, 1)\n",
    "\n",
    "# print the estimated optimal policy\n",
    "policy_expsarsa = np.array([np.argmax(Q_expsarsa[key]) if key in Q_expsarsa else -1 for key in np.arange(48)]).reshape(4,12)\n",
    "\n",
    "print(\"\\nEstimated Optimal Policy (UP = 0, RIGHT = 1, DOWN = 2, LEFT = 3, N/A = -1):\")\n",
    "print(policy_expsarsa)\n"
   ]
  },
  {
   "cell_type": "code",
   "execution_count": null,
   "metadata": {},
   "outputs": [],
   "source": []
  }
 ],
 "metadata": {
  "kernelspec": {
   "display_name": "Python 3",
   "language": "python",
   "name": "python3"
  },
  "language_info": {
   "codemirror_mode": {
    "name": "ipython",
    "version": 3
   },
   "file_extension": ".py",
   "mimetype": "text/x-python",
   "name": "python",
   "nbconvert_exporter": "python",
   "pygments_lexer": "ipython3",
   "version": "3.8.8"
  }
 },
 "nbformat": 4,
 "nbformat_minor": 4
}
